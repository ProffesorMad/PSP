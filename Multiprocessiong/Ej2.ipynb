{
 "cells": [
  {
   "cell_type": "code",
   "execution_count": null,
   "metadata": {},
   "outputs": [],
   "source": [
    "#Create pool of workers to run parallel tasks.\n",
    "\n",
    "#The pool size should be 2.\n",
    "\n",
    "#Write a function to be running in parallel, call it print_cube. The function should receive as input a \n",
    "#number [num]. When called, the function will print to the screen a message in the form: \n",
    "#“The cube of number [num] is [cube]”. Where [cube] should be replaced with the cube of the number \n",
    "#received as input.\n",
    "\n",
    "#Write a function to be running in parallel, call it print_square. The function should receive as input \n",
    "#a number [num]. When called, the function will print to the screen a message in the form: \n",
    "#“The square of number [num] is [square]”. Where [square] should be replaced with the square \n",
    "#of the number received as input.\n",
    "\n",
    "import multiprocessing\n",
    "\n",
    "def print_cube(num):\n",
    "    cube = num ** 3\n",
    "    print(f\"The cube of number {num} is {cube}\")\n",
    "\n",
    "def print_square(num):\n",
    "    square = num ** 2\n",
    "    print(f\"The square of number {num} is {square}\")\n",
    "\n",
    "def main():\n",
    "    # Crear un grupo de 2 trabajadores\n",
    "    pool = multiprocessing.Pool(2)\n",
    "\n",
    "    # Lista de números para los que queremos calcular cubos y cuadrados\n",
    "    numbers = [2, 3, 4, 5, 6]\n",
    "\n",
    "    # Utilice la función de mapa para ejecutar las funciones print_cube y print_square en paralelo\n",
    "    pool.map(print_cube, numbers)\n",
    "    pool.map(print_square, numbers)\n",
    "\n",
    "    # Cerrar el grupo de trabajadores\n",
    "    pool.close()\n",
    "    pool.join()\n",
    "\n",
    "if __name__ == \"__main__\":\n",
    "    main()\n"
   ]
  }
 ],
 "metadata": {
  "language_info": {
   "name": "python"
  },
  "orig_nbformat": 4
 },
 "nbformat": 4,
 "nbformat_minor": 2
}
