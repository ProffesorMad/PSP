{
 "cells": [
  {
   "cell_type": "code",
   "execution_count": null,
   "metadata": {},
   "outputs": [],
   "source": [
    "#Create a pool of workers to run parallel tasks.\n",
    "\n",
    "#The pool size should be the number of CPU cores available on your node minus 1 (8cores > \n",
    "#pool of 7 workers).\n",
    "\n",
    "#Write a function to be running in parallel, call it my_id. The function should receive as input the task id. \n",
    "#When called, the function will print to the screen a message in the form: “Hi, I’m worker ID (with PID)” \n",
    "#Where ID should be replaced with the task number assigned to the worker and PID with the process ID \n",
    "#of the running worker.\n",
    "\n",
    "#Run tasks in parallel using the map function, for a total of tasks equal to twice the number of CPU \n",
    "#cores in your node.\n",
    "\n",
    "import multiprocessing\n",
    "import os\n",
    "\n",
    "def my_id(task_id):\n",
    "    worker_id = task_id + 1  # Ajuste task_id para comenzar desde 1\n",
    "    process_id = os.getpid()\n",
    "    print(f\"Hi, I'm worker {worker_id} (with PID {process_id})\")\n",
    "\n",
    "def main():\n",
    "    # Obtenga la cantidad de núcleos de CPU disponibles en su nodo\n",
    "    num_cores = multiprocessing.cpu_count()\n",
    "    \n",
    "    # Calcular el tamaño del grupo (núcleos - 1)\n",
    "    pool_size = num_cores - 1\n",
    "    \n",
    "    # Número de tareas igual al doble del número de núcleos de CPU\n",
    "    num_tasks = 2 * num_cores\n",
    "    \n",
    "    # Crear un grupo de trabajadores\n",
    "    pool = multiprocessing.Pool(pool_size)\n",
    "    \n",
    "    # Utilice la función de mapa para ejecutar tareas en paralelo\n",
    "    pool.map(my_id, range(num_tasks))\n",
    "    \n",
    "    # Cerrar el grupo de trabajadores\n",
    "    pool.close()\n",
    "    pool.join()\n",
    "\n",
    "if __name__ == \"__main__\":\n",
    "    main()\n"
   ]
  }
 ],
 "metadata": {
  "language_info": {
   "name": "python"
  },
  "orig_nbformat": 4
 },
 "nbformat": 4,
 "nbformat_minor": 2
}
