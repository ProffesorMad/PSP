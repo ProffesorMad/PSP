{
 "cells": [
  {
   "cell_type": "code",
   "execution_count": null,
   "metadata": {},
   "outputs": [],
   "source": [
    "#Implementa un programa Python con un método llamado indexContains(String[] tabla, String cadena) \n",
    "#que devuelva el índice de la tabla cuyo valor es igual al valor de “cadena”. En caso de no haber \n",
    "#ningún valor igual, devuelve -1\n",
    "\n",
    "# Definir la función indexContains\n",
    "def indexContains(tabla, cadena):\n",
    "    for i in range(len(tabla)):\n",
    "        if tabla[i] == cadena:\n",
    "            return i\n",
    "    return -1\n",
    "\n",
    "# Ejemplo de uso de la función\n",
    "tabla = [\"manzana\", \"banana\", \"cereza\", \"dátiles\", \"uva\"]\n",
    "cadena = \"cereza\"\n",
    "resultado = indexContains(tabla, cadena)\n",
    "\n",
    "if resultado != -1:\n",
    "    print(f\"La cadena '{cadena}' se encuentra en el índice {resultado} de la tabla.\")\n",
    "else:\n",
    "    print(f\"La cadena '{cadena}' no se encuentra en la tabla.\")\n"
   ]
  }
 ],
 "metadata": {
  "language_info": {
   "name": "python"
  },
  "orig_nbformat": 4
 },
 "nbformat": 4,
 "nbformat_minor": 2
}
