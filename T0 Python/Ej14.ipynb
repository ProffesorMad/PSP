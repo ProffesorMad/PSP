{
 "cells": [
  {
   "cell_type": "code",
   "execution_count": null,
   "metadata": {},
   "outputs": [],
   "source": [
    "#Realiza un programa en Python en el que muestres un menú que te permita 3 opciones:\n",
    "#      - 1. Volcado (escritura) de una lista con todos los números pares comprendidos entre 0 y 100.\n",
    "#      - 2. Mostrar (lectura) por pantalla el contenido del fichero de texto creado.\n",
    "#      - 3. Salir del Programa.\n",
    "\n",
    "def escribir_numeros_pares():\n",
    "    # Crear una lista con números pares entre 0 y 100\n",
    "    numeros_pares = [str(numero) for numero in range(0, 101, 2)]\n",
    "\n",
    "    # Escribir la lista en un archivo de texto\n",
    "    with open(\"numeros_pares.txt\", \"w\") as archivo:\n",
    "        archivo.write(\"\\n\".join(numeros_pares))\n",
    "    print(\"Lista de números pares escrita en 'numeros_pares.txt'.\")\n",
    "\n",
    "def leer_y_mostrar_numeros_pares():\n",
    "    try:\n",
    "        # Leer y mostrar el contenido del archivo\n",
    "        with open(\"numeros_pares.txt\", \"r\") as archivo:\n",
    "            contenido = archivo.read()\n",
    "        print(\"Contenido del archivo 'numeros_pares.txt':\")\n",
    "        print(contenido)\n",
    "    except FileNotFoundError:\n",
    "        print(\"El archivo 'numeros_pares.txt' no existe.\")\n",
    "\n",
    "while True:\n",
    "    # Mostrar el menú\n",
    "    print(\"\\nMenú:\")\n",
    "    print(\"1. Volcar números pares en archivo\")\n",
    "    print(\"2. Mostrar números pares desde archivo\")\n",
    "    print(\"3. Salir\")\n",
    "    \n",
    "    # Solicitar la opción al usuario\n",
    "    opcion = input(\"Selecciona una opción (1/2/3): \")\n",
    "\n",
    "    if opcion == \"1\":\n",
    "        escribir_numeros_pares()\n",
    "    elif opcion == \"2\":\n",
    "        leer_y_mostrar_numeros_pares()\n",
    "    elif opcion == \"3\":\n",
    "        print(\"Saliendo del programa. ¡Hasta luego!\")\n",
    "        break\n",
    "    else:\n",
    "        print(\"Opción no válida. Por favor, elige una opción válida (1/2/3).\")\n"
   ]
  }
 ],
 "metadata": {
  "language_info": {
   "name": "python"
  },
  "orig_nbformat": 4
 },
 "nbformat": 4,
 "nbformat_minor": 2
}
