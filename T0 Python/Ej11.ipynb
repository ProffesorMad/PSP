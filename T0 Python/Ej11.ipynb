{
 "cells": [
  {
   "cell_type": "code",
   "execution_count": 1,
   "metadata": {},
   "outputs": [
    {
     "name": "stdout",
     "output_type": "stream",
     "text": [
      "Javier María -> 700 + 900 + 1300 = 2900€\n",
      "Antonio Muñoz -> 1000 + 950 + 1080 = 3030€\n",
      "Isabel Allende -> 1300 + 930 + 1200 = 3430€\n"
     ]
    }
   ],
   "source": [
    "#Tenemos la siguiente tabla multidimensional, la cual almacena por cada una de sus filas el \n",
    "#salario trimestral de cada uno de los empleados de la empresa.\n",
    "\n",
    "#int salarios[][] = { {700, 900, 1300} , {1000, 950, 1080}, {1300, 930, 1200} }\n",
    "\n",
    "#A su vez, disponemos también de una tabla empleados, con los nombres de los trabajadores:\n",
    "\n",
    "#String empleados[] = {Javier María, Antonio Muñoz, Isabel Allende}\n",
    "\n",
    "#Implementa un programa Python que muestre por pantalla lo siguiente:\n",
    "\n",
    "#Javier Marías -> 700 + 900 + 1300 = 2900€\n",
    "#Antonio Muñoz -> 1000 + 950 + 1080 = 3030€\n",
    "#Isabel Allende -> 1300 + 930 + 1200 = 3430€\n",
    "\n",
    "# Definir las matrices de salarios y empleados\n",
    "salarios = [[700, 900, 1300], [1000, 950, 1080], [1300, 930, 1200]]\n",
    "empleados = [\"Javier María\", \"Antonio Muñoz\", \"Isabel Allende\"]\n",
    "\n",
    "# Iterar a través de las matrices y mostrar los salarios trimestrales de cada empleado\n",
    "for i in range(len(empleados)):\n",
    "    nombre = empleados[i]\n",
    "    salario_trimestral = salarios[i]\n",
    "    salario_total = sum(salario_trimestral)\n",
    "    \n",
    "    # Mostrar la información\n",
    "    print(f\"{nombre} -> {salario_trimestral[0]} + {salario_trimestral[1]} + {salario_trimestral[2]} = {salario_total}€\")\n"
   ]
  }
 ],
 "metadata": {
  "kernelspec": {
   "display_name": "Python 3",
   "language": "python",
   "name": "python3"
  },
  "language_info": {
   "codemirror_mode": {
    "name": "ipython",
    "version": 3
   },
   "file_extension": ".py",
   "mimetype": "text/x-python",
   "name": "python",
   "nbconvert_exporter": "python",
   "pygments_lexer": "ipython3",
   "version": "3.10.9"
  },
  "orig_nbformat": 4
 },
 "nbformat": 4,
 "nbformat_minor": 2
}
