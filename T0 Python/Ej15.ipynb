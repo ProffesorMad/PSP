{
 "cells": [
  {
   "cell_type": "code",
   "execution_count": null,
   "metadata": {},
   "outputs": [],
   "source": [
    "#Crea un fichero de texto con el nombre y contenido que tú desees. Por ejemplo, Ejercicio15.txt. \n",
    "#Realiza un programa en Python que lea el fichero <<Ejercicio15.txt>> y muestre su contenido por \n",
    "#pantalla sin espacios. Por ejemplo, si el fichero contiene el siguiente texto “Hola que haces”, \n",
    "#deberá mostrar “Holaquehaces”.\n",
    "\n",
    "# Nombre del archivo de texto\n",
    "nombre_archivo = \"Ejercicio15.txt\"\n",
    "\n",
    "try:\n",
    "    # Abrir el archivo en modo lectura\n",
    "    with open(nombre_archivo, \"r\") as archivo:\n",
    "        # Leer el contenido del archivo y eliminar espacios en blanco\n",
    "        contenido = archivo.read().replace(\" \", \"\")\n",
    "        \n",
    "        # Mostrar el contenido sin espacios en blanco\n",
    "        print(contenido)\n",
    "except FileNotFoundError:\n",
    "    print(f\"El archivo '{nombre_archivo}' no fue encontrado.\")\n",
    "\n"
   ]
  }
 ],
 "metadata": {
  "language_info": {
   "name": "python"
  },
  "orig_nbformat": 4
 },
 "nbformat": 4,
 "nbformat_minor": 2
}
