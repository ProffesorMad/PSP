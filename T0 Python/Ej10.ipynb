{
 "cells": [
  {
   "cell_type": "code",
   "execution_count": null,
   "metadata": {},
   "outputs": [],
   "source": [
    "#Implementa un método Python llamado mayorYmenor, el cual recibe como parámetro una tabla \n",
    "#de Strings y muestra por pantalla el String con mayor longitud y el String con menor longitud.\n",
    "\n",
    "# Definir la función mayorYmenor\n",
    "def mayorYmenor(tabla):\n",
    "    if len(tabla) == 0:\n",
    "        print(\"La tabla está vacía.\")\n",
    "        return\n",
    "\n",
    "    cadena_menor = tabla[0]\n",
    "    cadena_mayor = tabla[0]\n",
    "\n",
    "    for cadena in tabla:\n",
    "        if len(cadena) < len(cadena_menor):\n",
    "            cadena_menor = cadena\n",
    "        elif len(cadena) > len(cadena_mayor):\n",
    "            cadena_mayor = cadena\n",
    "\n",
    "    print(f\"La cadena con la mayor longitud es: {cadena_mayor}\")\n",
    "    print(f\"La cadena con la menor longitud es: {cadena_menor}\")\n",
    "\n",
    "# Ejemplo de uso de la función\n",
    "tabla = [\"manzana\", \"banana\", \"kiwi\", \"cereza\", \"naranja\"]\n",
    "mayorYmenor(tabla)\n"
   ]
  }
 ],
 "metadata": {
  "language_info": {
   "name": "python"
  },
  "orig_nbformat": 4
 },
 "nbformat": 4,
 "nbformat_minor": 2
}
