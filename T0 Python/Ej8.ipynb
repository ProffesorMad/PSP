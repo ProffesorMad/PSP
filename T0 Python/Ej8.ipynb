{
 "cells": [
  {
   "cell_type": "code",
   "execution_count": null,
   "metadata": {},
   "outputs": [],
   "source": [
    "#Implementa un programa Python con un método llamado sum(int [] tabla) que muestre \n",
    "#por pantalla el resultado de sumar todos los elementos de la tabla pasada como parámetro.\n",
    "\n",
    "# Definir la función sum\n",
    "def sum(tabla):\n",
    "    suma = 0\n",
    "    for elemento in tabla:\n",
    "        suma += elemento\n",
    "    return suma\n",
    "\n",
    "# Ejemplo de uso de la función\n",
    "tabla = [1, 2, 3, 4, 5]\n",
    "resultado = sum(tabla)\n",
    "print(f\"La suma de los elementos en la lista es: {resultado}\")\n"
   ]
  }
 ],
 "metadata": {
  "language_info": {
   "name": "python"
  },
  "orig_nbformat": 4
 },
 "nbformat": 4,
 "nbformat_minor": 2
}
