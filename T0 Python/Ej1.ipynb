{
 "cells": [
  {
   "cell_type": "code",
   "execution_count": 1,
   "metadata": {},
   "outputs": [
    {
     "name": "stdout",
     "output_type": "stream",
     "text": [
      "2 + 3 = 5\n",
      "2 - 3 = -1\n",
      "2 * 3 = 6\n",
      "2 / 3 = 0.6666666666666666\n",
      "2 % 3 = 2\n"
     ]
    }
   ],
   "source": [
    "#Implementa un programa Python que PREGUNTE al usuario por dos números \n",
    "#enteros (x, y) y muestre por pantalla la suma, resta, multiplicación, división y resto de ambos, \n",
    "#con el siguiente formato:\n",
    "#                     x + y = …\n",
    "#                     x – y = …\n",
    "#                     x * y = …\n",
    "#                     x / y = …\n",
    "#                     x % y = …\n",
    "\n",
    "# Solicitar al usuario que ingrese dos números enteros\n",
    "x = int(input(\"Ingresa el primer número entero (x): \"))\n",
    "y = int(input(\"Ingresa el segundo número entero (y): \"))\n",
    "\n",
    "# Realizar cálculos\n",
    "suma = x + y\n",
    "resta = x - y\n",
    "multiplicacion = x * y\n",
    "\n",
    "# Manejar la división por cero\n",
    "if y != 0:\n",
    "    division = x / y\n",
    "    resto = x % y\n",
    "else:\n",
    "    division = \"No se puede dividir por cero\"\n",
    "    resto = \"No se puede calcular el resto\"\n",
    "\n",
    "# Mostrar los resultados con el formato deseado\n",
    "print(f\"{x} + {y} = {suma}\")\n",
    "print(f\"{x} - {y} = {resta}\")\n",
    "print(f\"{x} * {y} = {multiplicacion}\")\n",
    "print(f\"{x} / {y} = {division}\")\n",
    "print(f\"{x} % {y} = {resto}\")\n"
   ]
  }
 ],
 "metadata": {
  "kernelspec": {
   "display_name": "Python 3",
   "language": "python",
   "name": "python3"
  },
  "language_info": {
   "codemirror_mode": {
    "name": "ipython",
    "version": 3
   },
   "file_extension": ".py",
   "mimetype": "text/x-python",
   "name": "python",
   "nbconvert_exporter": "python",
   "pygments_lexer": "ipython3",
   "version": "3.10.9"
  },
  "orig_nbformat": 4
 },
 "nbformat": 4,
 "nbformat_minor": 2
}
