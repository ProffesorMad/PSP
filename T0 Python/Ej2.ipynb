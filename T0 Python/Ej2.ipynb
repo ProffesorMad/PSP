{
 "cells": [
  {
   "cell_type": "code",
   "execution_count": 2,
   "metadata": {},
   "outputs": [
    {
     "name": "stdout",
     "output_type": "stream",
     "text": [
      "Número de ceros: 1\n",
      "Número de enteros mayores que 0: 5\n",
      "Número de enteros menores que 0: 4\n"
     ]
    }
   ],
   "source": [
    "#Escribe un programa Python que pregunte al usuario por 10 números enteros y \n",
    "#muestre por pantalla el número total de veces que el usuario ha introducido el 0, \n",
    "#el número total de enteros mayores que 0 introducidos y el número total de enteros menores \n",
    "#que 0 introducidos.\n",
    "\n",
    "# Inicializar contadores\n",
    "contador_cero = 0\n",
    "contador_mayores_cero = 0\n",
    "contador_menores_cero = 0\n",
    "\n",
    "# Pedir al usuario que ingrese 10 números enteros\n",
    "for i in range(10):\n",
    "    numero = int(input(f\"Ingrese el número {i + 1}: \"))\n",
    "    \n",
    "    if numero == 0:\n",
    "        contador_cero += 1\n",
    "    elif numero > 0:\n",
    "        contador_mayores_cero += 1\n",
    "    else:\n",
    "        contador_menores_cero += 1\n",
    "\n",
    "# Mostrar los resultados\n",
    "print(f\"Número de ceros: {contador_cero}\")\n",
    "print(f\"Número de enteros mayores que 0: {contador_mayores_cero}\")\n",
    "print(f\"Número de enteros menores que 0: {contador_menores_cero}\")\n"
   ]
  }
 ],
 "metadata": {
  "kernelspec": {
   "display_name": "Python 3",
   "language": "python",
   "name": "python3"
  },
  "language_info": {
   "codemirror_mode": {
    "name": "ipython",
    "version": 3
   },
   "file_extension": ".py",
   "mimetype": "text/x-python",
   "name": "python",
   "nbconvert_exporter": "python",
   "pygments_lexer": "ipython3",
   "version": "3.10.9"
  },
  "orig_nbformat": 4
 },
 "nbformat": 4,
 "nbformat_minor": 2
}
