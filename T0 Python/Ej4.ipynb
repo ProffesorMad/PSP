{
 "cells": [
  {
   "cell_type": "code",
   "execution_count": null,
   "metadata": {},
   "outputs": [],
   "source": [
    "#Implementa un programa Python que solicite al usuario una cadena \n",
    "#de caracteres (String) y muestre por pantalla la longitud de esta.\n",
    "\n",
    "# Solicitar al usuario que ingrese una cadena de caracteres\n",
    "cadena = input(\"Por favor, ingresa una cadena de caracteres: \")\n",
    "\n",
    "# Calcular la longitud de la cadena\n",
    "longitud = len(cadena)\n",
    "\n",
    "# Mostrar la longitud por pantalla\n",
    "print(f\"La longitud de la cadena es: {longitud}\")\n"
   ]
  }
 ],
 "metadata": {
  "language_info": {
   "name": "python"
  },
  "orig_nbformat": 4
 },
 "nbformat": 4,
 "nbformat_minor": 2
}
