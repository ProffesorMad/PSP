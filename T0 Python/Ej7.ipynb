{
 "cells": [
  {
   "cell_type": "code",
   "execution_count": null,
   "metadata": {},
   "outputs": [],
   "source": [
    "# Implementa un programa Python que solicite al usuario una cadena de caracteres y \n",
    "#devuelva dicha cadena, pero al revés.\n",
    "\n",
    "# Solicitar al usuario que ingrese una cadena de caracteres\n",
    "cadena = input(\"Por favor, ingresa una cadena de caracteres: \")\n",
    "\n",
    "# Usar la rebanada (slice) para invertir la cadena\n",
    "cadena_invertida = cadena[::-1]\n",
    "\n",
    "# Mostrar la cadena invertida por pantalla\n",
    "print(f\"La cadena invertida es: {cadena_invertida}\")\n"
   ]
  }
 ],
 "metadata": {
  "language_info": {
   "name": "python"
  },
  "orig_nbformat": 4
 },
 "nbformat": 4,
 "nbformat_minor": 2
}
