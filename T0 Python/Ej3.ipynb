{
 "cells": [
  {
   "cell_type": "code",
   "execution_count": null,
   "metadata": {},
   "outputs": [],
   "source": [
    "#¡IMPLEMENTA TU PRIMER JUEGO! Realiza un programa Python que adivine el número. \n",
    "#El programa generará un número aleatorio entre 0 y 20 y luego irá pidiendo números \n",
    "#al usuario indicando “mayor” o “menor” según sea mayor o menor con respecto al número \n",
    "#generado aleatoriamente. El proceso termina cuando el usuario acierta, y deberá mostrar \n",
    "#un mensaje de felicitaciones junto al número de intentos que ha necesitado el usuario.\n",
    "\n",
    "import random\n",
    "\n",
    "# Generar un número aleatorio entre 0 y 20\n",
    "numero_aleatorio = random.randint(0, 20)\n",
    "\n",
    "# Inicializar contador de intentos\n",
    "intentos = 0\n",
    "\n",
    "# Comenzar el juego\n",
    "print(\"Bienvenido al juego de adivinar el número entre 0 y 20.\")\n",
    "\n",
    "while True:\n",
    "    try:\n",
    "        # Pedir al usuario que ingrese un número\n",
    "        numero_usuario = int(input(\"Ingresa un número: \"))\n",
    "        \n",
    "        # Incrementar el contador de intentos\n",
    "        intentos += 1\n",
    "        \n",
    "        # Verificar si el número es igual al número aleatorio\n",
    "        if numero_usuario == numero_aleatorio:\n",
    "            print(f\"¡Felicidades! Adivinaste el número {numero_aleatorio} en {intentos} intentos.\")\n",
    "            break\n",
    "        elif numero_usuario < numero_aleatorio:\n",
    "            print(\"El número es mayor.\")\n",
    "        else:\n",
    "            print(\"El número es menor.\")\n",
    "    except ValueError:\n",
    "        print(\"Por favor, ingresa un número válido.\")\n",
    "\n"
   ]
  }
 ],
 "metadata": {
  "language_info": {
   "name": "python"
  },
  "orig_nbformat": 4
 },
 "nbformat": 4,
 "nbformat_minor": 2
}
