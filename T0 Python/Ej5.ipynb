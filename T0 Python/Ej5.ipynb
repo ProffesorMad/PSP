{
 "cells": [
  {
   "cell_type": "code",
   "execution_count": null,
   "metadata": {},
   "outputs": [],
   "source": [
    "#Implementa un programa Python que solicite al usuario una cadena de caracteres (String) \n",
    "#y muestre por pantalla el número de veces que aparece la sub-cadena “aaa” dentro de dicho String.\n",
    "\n",
    "# Solicitar al usuario que ingrese una cadena de caracteres\n",
    "cadena = input(\"Por favor, ingresa una cadena de caracteres: \")\n",
    "\n",
    "# Inicializar contador\n",
    "contador = 0\n",
    "\n",
    "# Buscar y contar la subcadena \"aaa\" en la cadena ingresada\n",
    "indice = cadena.find(\"aaa\")\n",
    "\n",
    "while indice != -1:\n",
    "    contador += 1\n",
    "    indice = cadena.find(\"aaa\", indice + 1)\n",
    "\n",
    "# Mostrar el número de veces que aparece \"aaa\" en la cadena\n",
    "print(f\"El número de veces que aparece la subcadena 'aaa' es: {contador}\")\n"
   ]
  }
 ],
 "metadata": {
  "language_info": {
   "name": "python"
  },
  "orig_nbformat": 4
 },
 "nbformat": 4,
 "nbformat_minor": 2
}
