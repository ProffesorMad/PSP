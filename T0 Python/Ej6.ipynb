{
 "cells": [
  {
   "cell_type": "code",
   "execution_count": null,
   "metadata": {},
   "outputs": [],
   "source": [
    "# Implementa un programa Python que solicite al usuario una cadena de caracteres (String) \n",
    "#y muestre por pantalla dicha cadena, pero con el primer y último carácter cambiados de posición.\n",
    "\n",
    "# Solicitar al usuario que ingrese una cadena de caracteres\n",
    "cadena = input(\"Por favor, ingresa una cadena de caracteres: \")\n",
    "\n",
    "# Verificar si la cadena tiene al menos dos caracteres\n",
    "if len(cadena) >= 2:\n",
    "    # Intercambiar el primer y último carácter\n",
    "    cadena_intercambiada = cadena[-1] + cadena[1:-1] + cadena[0]\n",
    "    \n",
    "    # Mostrar la cadena intercambiada por pantalla\n",
    "    print(f\"La cadena con el primer y último carácter intercambiados es: {cadena_intercambiada}\")\n",
    "else:\n",
    "    print(\"La cadena debe tener al menos dos caracteres para intercambiar.\")\n"
   ]
  }
 ],
 "metadata": {
  "language_info": {
   "name": "python"
  },
  "orig_nbformat": 4
 },
 "nbformat": 4,
 "nbformat_minor": 2
}
